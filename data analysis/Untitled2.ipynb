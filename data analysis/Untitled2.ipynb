{
 "cells": [
  {
   "cell_type": "code",
   "execution_count": 21,
   "metadata": {},
   "outputs": [
    {
     "data": {
      "text/plain": [
       "array([[-0.87429143,  1.6485652 , -1.15473436,  0.09556559, -0.65822109,\n",
       "        -1.7929564 ],\n",
       "       [ 2.04709217, -0.67819015,  2.23523674,  0.24310765,  1.06139138,\n",
       "         0.11882221],\n",
       "       [ 0.3297751 ,  0.20614545, -0.30969717, -0.23132485,  1.35118979,\n",
       "         0.21724732],\n",
       "       [-0.4802277 , -1.84001392, -2.82135622,  0.18384292,  0.63563646,\n",
       "         0.18226979],\n",
       "       [ 0.26554423, -0.16756255,  1.49213968, -0.06488127,  1.6021389 ,\n",
       "        -1.15087471],\n",
       "       [-0.71335374,  0.91122081, -1.32686297, -1.33216106,  0.63219576,\n",
       "         1.01452228]])"
      ]
     },
     "execution_count": 21,
     "metadata": {},
     "output_type": "execute_result"
    }
   ],
   "source": [
    "import numpy as np\n",
    "from matplotlib import pyplot as plt\n",
    "a=np.random.randn(6,6)\n"
   ]
  },
  {
   "cell_type": "code",
   "execution_count": 29,
   "metadata": {},
   "outputs": [
    {
     "data": {
      "image/png": "[encoded data removed]",
      "text/plain": [
       "<Figure size 432x288 with 1 Axes>"
      ]
     },
     "metadata": {
      "needs_background": "light"
     },
     "output_type": "display_data"
    }
   ],
   "source": [
    "import random\n",
    "import matplotlib.pyplot as plt\n",
    "p=0\n",
    "walk=[p]\n",
    "step=1000\n",
    "for i in range(step):\n",
    "    step=1 if random.randint(0,1) else -1\n",
    "    p=p+step\n",
    "    walk.append(p)\n",
    "    plt.plot(walk[:100],color='red')"
   ]
  },
  {
   "cell_type": "code",
   "execution_count": null,
   "metadata": {},
   "outputs": [],
   "source": []
  }
 ],
 "metadata": {
  "kernelspec": {
   "display_name": "Python 3",
   "language": "python",
   "name": "python3"
  },
  "language_info": {
   "codemirror_mode": {
    "name": "ipython",
    "version": 3
   },
   "file_extension": ".py",
   "mimetype": "text/x-python",
   "name": "python",
   "nbconvert_exporter": "python",
   "pygments_lexer": "ipython3",
   "version": "3.7.3"
  }
 },
 "nbformat": 4,
 "nbformat_minor": 2
}
