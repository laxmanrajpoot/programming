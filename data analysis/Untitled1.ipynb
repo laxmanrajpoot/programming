{
 "cells": [
  {
   "cell_type": "code",
   "execution_count": 11,
   "metadata": {},
   "outputs": [
    {
     "data": {
      "text/plain": [
       "Text(0.5, 1.0, 'it is image plot')"
      ]
     },
     "execution_count": 11,
     "metadata": {},
     "output_type": "execute_result"
    },
    {
     "data": {
      "image/png": "[encoded data removed]",
      "text/plain": [
       "<Figure size 432x288 with 2 Axes>"
      ]
     },
     "metadata": {
      "needs_background": "light"
     },
     "output_type": "display_data"
    }
   ],
   "source": [
    "import numpy as np\n",
    "from matplotlib import pyplot as plt\n",
    "p=np.arange(-5,5,0.01)\n",
    "x,y=np.meshgrid(p,p)\n",
    "y\n",
    "z=np.sqrt(x**2,y**2)\n",
    "z\n",
    "plt.imshow(z,cmap=plt.cm.gray)\n",
    "plt.colorbar()\n",
    "plt.title(\"it is image plot\")\n"
   ]
  },
  {
   "cell_type": "code",
   "execution_count": 21,
   "metadata": {},
   "outputs": [
    {
     "data": {
      "text/plain": [
       "array([  0,   1,   3,   6,  10,  15,  21,  28,  36,  45,  55,  66,  78,\n",
       "        91, 105], dtype=int32)"
      ]
     },
     "execution_count": 21,
     "metadata": {},
     "output_type": "execute_result"
    }
   ],
   "source": [
    "a=np.arange(15,)\n",
    "a\n",
    "c=np.cumsum(a)\n",
    "np.sort(c)"
   ]
  },
  {
   "cell_type": "code",
   "execution_count": 28,
   "metadata": {},
   "outputs": [
    {
     "data": {
      "text/plain": [
       "array([-0.84511583, -0.78636474, -0.39626612, -0.05281817,  0.04255884,\n",
       "        0.06968984,  0.17770927,  0.99364888,  1.01120153,  1.16144301,\n",
       "        1.30330821,  1.32528979])"
      ]
     },
     "execution_count": 28,
     "metadata": {},
     "output_type": "execute_result"
    }
   ],
   "source": [
    "a=np.random.randn(12)\n",
    "np.sort(a)\n",
    "#np.unique(a)"
   ]
  },
  {
   "cell_type": "code",
   "execution_count": 37,
   "metadata": {},
   "outputs": [
    {
     "data": {
      "text/plain": [
       "array([0, 1, 2, 3, 4, 5, 6, 7, 8, 9])"
      ]
     },
     "execution_count": 37,
     "metadata": {},
     "output_type": "execute_result"
    }
   ],
   "source": [
    "#a=np.arange(10)\n",
    "np.save('s',a)\n",
    "np.load('s.npy')"
   ]
  },
  {
   "cell_type": "code",
   "execution_count": 42,
   "metadata": {},
   "outputs": [
    {
     "data": {
      "text/plain": [
       "array([  2. ,   2.5,   3. ,   3.5,   4. ,   4.5,   5. ,   5.5,   6. ,\n",
       "         6.5,   7. ,   7.5,   8. ,   8.5,   9. ,   9.5,  10. ,  10.5,\n",
       "        11. ,  11.5,  12. ,  12.5,  13. ,  13.5,  14. ,  14.5,  15. ,\n",
       "        15.5,  16. ,  16.5,  17. ,  17.5,  18. ,  18.5,  19. ,  19.5,\n",
       "        20. ,  20.5,  21. ,  21.5,  22. ,  22.5,  23. ,  23.5,  24. ,\n",
       "        24.5,  25. ,  25.5,  26. ,  26.5,  27. ,  27.5,  28. ,  28.5,\n",
       "        29. ,  29.5,  30. ,  30.5,  31. ,  31.5,  32. ,  32.5,  33. ,\n",
       "        33.5,  34. ,  34.5,  35. ,  35.5,  36. ,  36.5,  37. ,  37.5,\n",
       "        38. ,  38.5,  39. ,  39.5,  40. ,  40.5,  41. ,  41.5,  42. ,\n",
       "        42.5,  43. ,  43.5,  44. ,  44.5,  45. ,  45.5,  46. ,  46.5,\n",
       "        47. ,  47.5,  48. ,  48.5,  49. ,  49.5,  50. ,  50.5,  51. ,\n",
       "        51.5,  52. ,  52.5,  53. ,  53.5,  54. ,  54.5,  55. ,  55.5,\n",
       "        56. ,  56.5,  57. ,  57.5,  58. ,  58.5,  59. ,  59.5,  60. ,\n",
       "        60.5,  61. ,  61.5,  62. ,  62.5,  63. ,  63.5,  64. ,  64.5,\n",
       "        65. ,  65.5,  66. ,  66.5,  67. ,  67.5,  68. ,  68.5,  69. ,\n",
       "        69.5,  70. ,  70.5,  71. ,  71.5,  72. ,  72.5,  73. ,  73.5,\n",
       "        74. ,  74.5,  75. ,  75.5,  76. ,  76.5,  77. ,  77.5,  78. ,\n",
       "        78.5,  79. ,  79.5,  80. ,  80.5,  81. ,  81.5,  82. ,  82.5,\n",
       "        83. ,  83.5,  84. ,  84.5,  85. ,  85.5,  86. ,  86.5,  87. ,\n",
       "        87.5,  88. ,  88.5,  89. ,  89.5,  90. ,  90.5,  91. ,  91.5,\n",
       "        92. ,  92.5,  93. ,  93.5,  94. ,  94.5,  95. ,  95.5,  96. ,\n",
       "        96.5,  97. ,  97.5,  98. ,  98.5,  99. ,  99.5, 100. , 100.5,\n",
       "       101. , 101.5, 102. , 102.5, 103. , 103.5, 104. , 104.5, 105. ,\n",
       "       105.5, 106. , 106.5, 107. , 107.5, 108. , 108.5, 109. , 109.5,\n",
       "       110. , 110.5, 111. , 111.5, 112. , 112.5, 113. , 113.5, 114. ,\n",
       "       114.5, 115. , 115.5, 116. , 116.5, 117. , 117.5, 118. , 118.5,\n",
       "       119. , 119.5, 120. , 120.5, 121. , 121.5, 122. , 122.5, 123. ,\n",
       "       123.5, 124. , 124.5, 125. , 125.5, 126. , 126.5, 127. , 127.5,\n",
       "       128. , 128.5, 129. , 129.5, 130. , 130.5, 131. , 131.5, 132. ,\n",
       "       132.5, 133. , 133.5, 134. , 134.5, 135. , 135.5, 136. , 136.5,\n",
       "       137. , 137.5, 138. , 138.5, 139. , 139.5, 140. , 140.5, 141. ,\n",
       "       141.5, 142. , 142.5, 143. , 143.5, 144. , 144.5, 145. , 145.5,\n",
       "       146. , 146.5, 147. , 147.5, 148. , 148.5, 149. , 149.5, 150. ,\n",
       "       150.5, 151. , 151.5, 152. , 152.5, 153. , 153.5, 154. , 154.5,\n",
       "       155. , 155.5, 156. , 156.5, 157. , 157.5, 158. , 158.5, 159. ,\n",
       "       159.5, 160. , 160.5, 161. , 161.5, 162. , 162.5, 163. , 163.5,\n",
       "       164. , 164.5, 165. , 165.5, 166. , 166.5, 167. , 167.5, 168. ,\n",
       "       168.5, 169. , 169.5, 170. , 170.5, 171. , 171.5, 172. , 172.5,\n",
       "       173. , 173.5, 174. , 174.5, 175. , 175.5, 176. , 176.5, 177. ,\n",
       "       177.5, 178. , 178.5, 179. , 179.5, 180. , 180.5, 181. , 181.5,\n",
       "       182. , 182.5, 183. , 183.5, 184. , 184.5, 185. , 185.5, 186. ,\n",
       "       186.5, 187. , 187.5, 188. , 188.5, 189. , 189.5, 190. , 190.5,\n",
       "       191. , 191.5, 192. , 192.5, 193. , 193.5, 194. , 194.5, 195. ,\n",
       "       195.5, 196. , 196.5, 197. , 197.5, 198. , 198.5, 199. , 199.5])"
      ]
     },
     "execution_count": 42,
     "metadata": {},
     "output_type": "execute_result"
    }
   ],
   "source": [
    "a=np.arange(2,200,0.5)\n",
    "np.save('abc',a)\n",
    "np.load('abc.npy')"
   ]
  },
  {
   "cell_type": "code",
   "execution_count": 45,
   "metadata": {},
   "outputs": [
    {
     "ename": "FileNotFoundError",
     "evalue": "[Errno 2] No such file or directory: 'kuiper.xls'",
     "output_type": "error",
     "traceback": [
      "\u001b[1;31m---------------------------------------------------------------------------\u001b[0m",
      "\u001b[1;31mFileNotFoundError\u001b[0m                         Traceback (most recent call last)",
      "\u001b[1;32m<ipython-input-45-934ab3830ef5>\u001b[0m in \u001b[0;36m<module>\u001b[1;34m\u001b[0m\n\u001b[0;32m      1\u001b[0m \u001b[1;33m\u001b[0m\u001b[0m\n\u001b[1;32m----> 2\u001b[1;33m \u001b[0mnp\u001b[0m\u001b[1;33m.\u001b[0m\u001b[0mload\u001b[0m\u001b[1;33m(\u001b[0m\u001b[1;34m\"kuiper.xls\"\u001b[0m\u001b[1;33m)\u001b[0m\u001b[1;33m\u001b[0m\u001b[1;33m\u001b[0m\u001b[0m\n\u001b[0m",
      "\u001b[1;32mC:\\ProgramData\\Anaconda3\\lib\\site-packages\\numpy\\lib\\npyio.py\u001b[0m in \u001b[0;36mload\u001b[1;34m(file, mmap_mode, allow_pickle, fix_imports, encoding)\u001b[0m\n\u001b[0;32m    413\u001b[0m         \u001b[0mown_fid\u001b[0m \u001b[1;33m=\u001b[0m \u001b[1;32mFalse\u001b[0m\u001b[1;33m\u001b[0m\u001b[1;33m\u001b[0m\u001b[0m\n\u001b[0;32m    414\u001b[0m     \u001b[1;32melse\u001b[0m\u001b[1;33m:\u001b[0m\u001b[1;33m\u001b[0m\u001b[1;33m\u001b[0m\u001b[0m\n\u001b[1;32m--> 415\u001b[1;33m         \u001b[0mfid\u001b[0m \u001b[1;33m=\u001b[0m \u001b[0mopen\u001b[0m\u001b[1;33m(\u001b[0m\u001b[0mos_fspath\u001b[0m\u001b[1;33m(\u001b[0m\u001b[0mfile\u001b[0m\u001b[1;33m)\u001b[0m\u001b[1;33m,\u001b[0m \u001b[1;34m\"rb\"\u001b[0m\u001b[1;33m)\u001b[0m\u001b[1;33m\u001b[0m\u001b[1;33m\u001b[0m\u001b[0m\n\u001b[0m\u001b[0;32m    416\u001b[0m         \u001b[0mown_fid\u001b[0m \u001b[1;33m=\u001b[0m \u001b[1;32mTrue\u001b[0m\u001b[1;33m\u001b[0m\u001b[1;33m\u001b[0m\u001b[0m\n\u001b[0;32m    417\u001b[0m \u001b[1;33m\u001b[0m\u001b[0m\n",
      "\u001b[1;31mFileNotFoundError\u001b[0m: [Errno 2] No such file or directory: 'kuiper.xls'"
     ]
    }
   ],
   "source": [
    "\n",
    "np.load(\"kuiper.xls\")"
   ]
  },
  {
   "cell_type": "code",
   "execution_count": 51,
   "metadata": {},
   "outputs": [
    {
     "data": {
      "text/plain": [
       "array([ 0,  1,  2,  3,  4,  5,  6,  7,  8,  9, 10, 11, 12, 13, 14, 15, 16,\n",
       "       17, 18, 19, 20, 21, 22, 23, 24, 25, 26, 27, 28, 29, 30, 31, 32, 33,\n",
       "       34, 35, 36, 37, 38, 39, 40, 41, 42, 43, 44, 45, 46, 47, 48, 49, 50,\n",
       "       51, 52, 53, 54, 55, 56, 57, 58, 59, 60, 61, 62, 63, 64, 65, 66, 67,\n",
       "       68, 69, 70, 71, 72, 73, 74, 75, 76, 77, 78, 79, 80, 81, 82, 83, 84,\n",
       "       85, 86, 87, 88, 89, 90, 91, 92, 93, 94, 95, 96, 97, 98, 99])"
      ]
     },
     "execution_count": 51,
     "metadata": {},
     "output_type": "execute_result"
    }
   ],
   "source": [
    "a=np.arange(100)\n",
    "b=np.arange(100,200,1)\n",
    "np.save('same',a,b)\n",
    "np.load('same.npy'\n",
    ")"
   ]
  },
  {
   "cell_type": "code",
   "execution_count": 56,
   "metadata": {},
   "outputs": [
    {
     "ename": "AttributeError",
     "evalue": "module 'numpy' has no attribute 'det'",
     "output_type": "error",
     "traceback": [
      "\u001b[1;31m---------------------------------------------------------------------------\u001b[0m",
      "\u001b[1;31mAttributeError\u001b[0m                            Traceback (most recent call last)",
      "\u001b[1;32m<ipython-input-56-2fbbeeb065d8>\u001b[0m in \u001b[0;36m<module>\u001b[1;34m\u001b[0m\n\u001b[0;32m      1\u001b[0m \u001b[0mm\u001b[0m\u001b[1;33m=\u001b[0m\u001b[0mnp\u001b[0m\u001b[1;33m.\u001b[0m\u001b[0marange\u001b[0m\u001b[1;33m(\u001b[0m\u001b[1;36m20\u001b[0m\u001b[1;33m)\u001b[0m\u001b[1;33m\u001b[0m\u001b[1;33m\u001b[0m\u001b[0m\n\u001b[0;32m      2\u001b[0m \u001b[1;31m#np.diag(m)\u001b[0m\u001b[1;33m\u001b[0m\u001b[1;33m\u001b[0m\u001b[1;33m\u001b[0m\u001b[0m\n\u001b[1;32m----> 3\u001b[1;33m \u001b[0mnp\u001b[0m\u001b[1;33m.\u001b[0m\u001b[0mdet\u001b[0m\u001b[1;33m(\u001b[0m\u001b[0mm\u001b[0m\u001b[1;33m)\u001b[0m\u001b[1;33m\u001b[0m\u001b[1;33m\u001b[0m\u001b[0m\n\u001b[0m",
      "\u001b[1;31mAttributeError\u001b[0m: module 'numpy' has no attribute 'det'"
     ]
    }
   ],
   "source": [
    "m=np.arange(20)\n",
    "#np.diag(m)\n",
    "np.det(m)\n"
   ]
  },
  {
   "cell_type": "code",
   "execution_count": null,
   "metadata": {},
   "outputs": [],
   "source": []
  }
 ],
 "metadata": {
  "kernelspec": {
   "display_name": "Python 3",
   "language": "python",
   "name": "python3"
  },
  "language_info": {
   "codemirror_mode": {
    "name": "ipython",
    "version": 3
   },
   "file_extension": ".py",
   "mimetype": "text/x-python",
   "name": "python",
   "nbconvert_exporter": "python",
   "pygments_lexer": "ipython3",
   "version": "3.7.3"
  }
 },
 "nbformat": 4,
 "nbformat_minor": 2
}
